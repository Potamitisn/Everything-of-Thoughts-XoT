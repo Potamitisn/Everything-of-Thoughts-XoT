{
 "cells": [
  {
   "cell_type": "code",
   "execution_count": 1,
   "metadata": {},
   "outputs": [
    {
     "name": "stdout",
     "output_type": "stream",
     "text": [
      "/dlabscratch1/potamiti/Everything-of-Thoughts-XoT/xot_all_in_one\n",
      "config\texperiments  main.py\t  scripts   xot\n",
      "data\tGame.py      __pycache__  utils.py\n"
     ]
    }
   ],
   "source": [
    "%cd xot_all_in_one\n",
    "!ls"
   ]
  },
  {
   "cell_type": "code",
   "execution_count": 11,
   "metadata": {},
   "outputs": [],
   "source": [
    "from functools import partial\n",
    "\n",
    "\n",
    "from utils import Config, load_config\n",
    "from xot.controller import chatgpt\n",
    "from xot import env\n",
    "from xot.prompter import Game24Prompter\n",
    "from xot.parser import Game24Parser\n",
    "from xot.controller import Controller"
   ]
  },
  {
   "cell_type": "code",
   "execution_count": 7,
   "metadata": {},
   "outputs": [],
   "source": [
    "# Config Setup\n",
    "config_path = \"config/game24/multi_sol/game24_multi_got_laststep1.yaml\"\n",
    "config = Config(load_config(config_path))"
   ]
  },
  {
   "cell_type": "code",
   "execution_count": 8,
   "metadata": {},
   "outputs": [],
   "source": [
    "# LLM Setup\n",
    "gpt = partial(chatgpt, model=config.gpt.backend, temperature=config.gpt.temperature)"
   ]
  },
  {
   "cell_type": "code",
   "execution_count": 9,
   "metadata": {},
   "outputs": [
    {
     "name": "stderr",
     "output_type": "stream",
     "text": [
      "2025-01-08 18:31:50 iccluster060 xot.env.game24.Game24Game[683319] INFO Loading Test Environment...\n"
     ]
    }
   ],
   "source": [
    "# Environment Setup\n",
    "game = env.Game24(test_dir=config.task.data)\n",
    "prompter = Game24Prompter(last_step=config.param.last_step)\n",
    "parser = Game24Parser()"
   ]
  },
  {
   "cell_type": "code",
   "execution_count": 12,
   "metadata": {},
   "outputs": [],
   "source": [
    "# Contoller Setup\n",
    "ctrl = Controller(config, gpt, game, prompter, parser)"
   ]
  }
 ],
 "metadata": {
  "kernelspec": {
   "display_name": "xot",
   "language": "python",
   "name": "python3"
  },
  "language_info": {
   "codemirror_mode": {
    "name": "ipython",
    "version": 3
   },
   "file_extension": ".py",
   "mimetype": "text/x-python",
   "name": "python",
   "nbconvert_exporter": "python",
   "pygments_lexer": "ipython3",
   "version": "3.8.20"
  }
 },
 "nbformat": 4,
 "nbformat_minor": 2
}
